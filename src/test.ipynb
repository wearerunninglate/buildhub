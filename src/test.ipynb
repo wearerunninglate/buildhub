{
 "cells": [
  {
   "cell_type": "code",
   "execution_count": null,
   "metadata": {},
   "outputs": [],
   "source": [
    "!pip install dotenv"
   ]
  },
  {
   "cell_type": "code",
   "execution_count": null,
   "metadata": {},
   "outputs": [],
   "source": [
    "import requests\n",
    "import os\n",
    "from dotenv import load_dotenv\n",
    "\n",
    "\n",
    "load_dotenv()\n",
    "\n",
    "api_client_id = os.getenv('api_client_id')\n",
    "api_client_secret = os.getenv('api_client_secret')\n",
    "\n",
    "\n",
    "app_id = os.getenv('app_id')\n",
    "app_secret = os.getenv('app_secret')\n",
    "\n"
   ]
  },
  {
   "cell_type": "code",
   "execution_count": null,
   "metadata": {},
   "outputs": [],
   "source": [
    "url = \"https://sandbox-api.sahha.ai/api/v1/oauth/account/token\"\n",
    "\n",
    "headers = {\n",
    "    \"Content-Type\": \"application/json\",\n",
    "}\n",
    "\n",
    "payload = {\n",
    "    \"clientId\": api_client_id,\n",
    "    \"clientSecret\": api_client_secret\n",
    "}\n",
    "\n",
    "auth_response = requests.post(url, json=payload, headers=headers)\n",
    "account_token = auth_response.json().get('accountToken')"
   ]
  },
  {
   "cell_type": "code",
   "execution_count": null,
   "metadata": {},
   "outputs": [],
   "source": [
    "headers = {\n",
    "    \"Content-Type\": \"application/json\",\n",
    "    \"Authorization\": f\"account {account_token}\"\n",
    "}\n",
    "\n",
    "payload = {\n",
    "    \"externalId\": \"123456-14f9-47ef-b6f8-80a18b206a8e\"\n",
    "}\n",
    "\n",
    "token_response = requests.post(\"https://sandbox-api.sahha.ai/api/v1/oauth/profile/register\",json=payload, headers=headers)\n",
    "profile_token = token_response.json().get('profileToken')"
   ]
  },
  {
   "cell_type": "code",
   "execution_count": null,
   "metadata": {},
   "outputs": [],
   "source": [
    "demographic_url = 'https://sandbox-api.sahha.ai/api/v1/profile/demographic'\n",
    "headers = {\n",
    "    \"Content-Type\": \"application/json\",\n",
    "    \"Authorization\": f\"profile {profile_token}\"\n",
    "}\n",
    "\n",
    "\n",
    "demographic_response = requests.get(url=demographic_url,headers=headers)\n"
   ]
  },
  {
   "cell_type": "code",
   "execution_count": null,
   "metadata": {},
   "outputs": [],
   "source": [
    "demographic_response"
   ]
  },
  {
   "cell_type": "code",
   "execution_count": null,
   "metadata": {},
   "outputs": [],
   "source": []
  }
 ],
 "metadata": {
  "kernelspec": {
   "display_name": ".venv",
   "language": "python",
   "name": "python3"
  },
  "language_info": {
   "codemirror_mode": {
    "name": "ipython",
    "version": 3
   },
   "file_extension": ".py",
   "mimetype": "text/x-python",
   "name": "python",
   "nbconvert_exporter": "python",
   "pygments_lexer": "ipython3",
   "version": "3.12.3"
  },
  "orig_nbformat": 4
 },
 "nbformat": 4,
 "nbformat_minor": 2
}
